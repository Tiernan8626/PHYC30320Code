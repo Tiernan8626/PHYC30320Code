{
 "cells": [
  {
   "cell_type": "markdown",
   "metadata": {},
   "source": [
    "# Error Analysis Problems"
   ]
  },
  {
   "cell_type": "markdown",
   "metadata": {},
   "source": [
    "# Tiernan O'Neill 18383616"
   ]
  },
  {
   "cell_type": "code",
   "execution_count": 1,
   "metadata": {},
   "outputs": [],
   "source": [
    "import numpy as np"
   ]
  },
  {
   "cell_type": "markdown",
   "metadata": {},
   "source": [
    "Question 1"
   ]
  },
  {
   "cell_type": "code",
   "execution_count": 2,
   "metadata": {},
   "outputs": [
    {
     "data": {
      "text/plain": [
       "'Probability of catching exactly 1 meteor= 0.03996622737954742'"
      ]
     },
     "execution_count": 2,
     "metadata": {},
     "output_type": "execute_result"
    }
   ],
   "source": [
    "# (a)\n",
    "\n",
    "# mean count=50/hour\n",
    "# count rate=50/3600 per second\n",
    "# only 10% of meteors is seen so count rate for camera is 5/3600 per second\n",
    "# average number of succeses over 30s is 1/24\n",
    "# use poisson distrubution \n",
    "\n",
    "def poisson(n,u):\n",
    "    a=np.math.factorial(n)\n",
    "    return np.exp(-u)*u**n/a\n",
    "f'Probability of catching exactly 1 meteor= {poisson(1,1/24)}'"
   ]
  },
  {
   "cell_type": "code",
   "execution_count": 3,
   "metadata": {},
   "outputs": [
    {
     "data": {
      "text/plain": [
       "'Probability of catching atleast 1 meteor= 0.04081054289086181'"
      ]
     },
     "execution_count": 3,
     "metadata": {},
     "output_type": "execute_result"
    }
   ],
   "source": [
    "# (b)\n",
    "\n",
    "prob=0\n",
    "for i in range(1,30):\n",
    "    prob+=poisson(i,1/24)\n",
    "f'Probability of catching atleast 1 meteor= {prob}'"
   ]
  },
  {
   "cell_type": "code",
   "execution_count": 4,
   "metadata": {},
   "outputs": [
    {
     "data": {
      "text/plain": [
       "'Probability of getting atleast 1 meteor from 10 exposures= 0.34075936976977916'"
      ]
     },
     "execution_count": 4,
     "metadata": {},
     "output_type": "execute_result"
    }
   ],
   "source": [
    "# (c)\n",
    "\n",
    "# prob of getting atleast 1 meteor per 30s exposure= 0.0408\n",
    "# prob of getting exactly 1 meteor out of ten 30s exposures:\n",
    "\n",
    "poisson(1,10/24)\n",
    "\n",
    "# prob of getting atleast 1 meteor out of ten 30s exposures:\n",
    "\n",
    "prob2=0\n",
    "for i in range(1,10):\n",
    "    prob2+=poisson(i,10/24)    \n",
    "f'Probability of getting atleast 1 meteor from 10 exposures= {prob2}'"
   ]
  },
  {
   "cell_type": "markdown",
   "metadata": {},
   "source": [
    "Question 2"
   ]
  },
  {
   "cell_type": "code",
   "execution_count": 5,
   "metadata": {},
   "outputs": [
    {
     "data": {
      "text/plain": [
       "'Time difference between fastest runner in UK and Ireland= 5.039e-01 seconds'"
      ]
     },
     "execution_count": 5,
     "metadata": {},
     "output_type": "execute_result"
    }
   ],
   "source": [
    "#(a)\n",
    "\n",
    "# ireland=50000 students,  uk=500000 students\n",
    "\n",
    "from scipy.stats import norm\n",
    "\n",
    "iretop=norm.ppf(1/50000,loc=15,scale=1)\n",
    "uktop=norm.ppf(1/500000,loc=15,scale=1)\n",
    "\n",
    "f'Time difference between fastest runner in UK and Ireland= {iretop-uktop:.3e} seconds'"
   ]
  },
  {
   "cell_type": "code",
   "execution_count": 6,
   "metadata": {},
   "outputs": [
    {
     "data": {
      "text/plain": [
       "'Time difference between 4x100m team in UK and Ireland= 2.096e+00 seconds'"
      ]
     },
     "execution_count": 6,
     "metadata": {},
     "output_type": "execute_result"
    }
   ],
   "source": [
    "#(b)\n",
    "\n",
    "# assume uk and ireland teams consist of the 4 fastest runners in their group\n",
    "\n",
    "# store the 4 fastest runner's probability that will be used in the percent point function\n",
    "ireteam=np.array([1/50000,2/50000,3/50000,4/50000])\n",
    "ukteam=np.array([1/500000,2/500000,3/500000,4/500000])\n",
    "\n",
    "# sum the time for each runner on each team\n",
    "iretime=np.sum(norm.ppf(ireteam,loc=15,scale=1))\n",
    "uktime=np.sum(norm.ppf(ukteam,loc=15,scale=1))\n",
    "\n",
    "f'Time difference between 4x100m team in UK and Ireland= {iretime-uktime:.3e} seconds'"
   ]
  },
  {
   "cell_type": "markdown",
   "metadata": {},
   "source": [
    "Question 3"
   ]
  },
  {
   "cell_type": "code",
   "execution_count": 7,
   "metadata": {},
   "outputs": [
    {
     "data": {
      "text/plain": [
       "'n2=1.503163697708272 +- 0.024881254465586318'"
      ]
     },
     "execution_count": 7,
     "metadata": {},
     "output_type": "execute_result"
    }
   ],
   "source": [
    "# n=1\n",
    "# t1=22.03 +- 0.2\n",
    "# t2=14.45 +- 0.2\n",
    "\n",
    "def n2func(n1,t1,t2):\n",
    "    a=t1*np.pi/180   # convert to radians\n",
    "    b=t2*np.pi/180\n",
    "    return n1*np.sin(a)/np.sin(b)\n",
    "n2ans=n2func(1,22.03,14.45)\n",
    "\n",
    "# use propagation of errors formula\n",
    "def n2errfunc(n2,t1,t2,t1err,t2err):\n",
    "    return np.sqrt( (n2**2)*(t1err**2/t1**2 + t2err**2/t2**2) )\n",
    "n2err=n2errfunc(n2ans,22.03,14.45,0.2,0.2)\n",
    "\n",
    "f'n2={n2ans} +- {n2err}'"
   ]
  },
  {
   "cell_type": "markdown",
   "metadata": {},
   "source": [
    "I think the answer is reasonable as the value of n2 is larger than n1, so the refracted index is greater than the incident index. This tells us that the speed of light in n1 is greater than in n2. From this we should expect the angle t1 to be greater than the angle t2, which it is."
   ]
  },
  {
   "cell_type": "markdown",
   "metadata": {},
   "source": [
    "Question 4"
   ]
  },
  {
   "cell_type": "code",
   "execution_count": 8,
   "metadata": {},
   "outputs": [
    {
     "name": "stdout",
     "output_type": "stream",
     "text": [
      "Diameter=2.00e+00 (+-) 4.2e-02 cm\n",
      "Height=5.02e+00 (+-) 4.0e-02 cm\n"
     ]
    }
   ],
   "source": [
    "#(a)\n",
    "\n",
    "d=np.array([1.96, 2.12, 1.94, 1.96, 2.22, 2.04, 1.75, 1.89, 2.07, 2.07])\n",
    "h=np.array([5.17, 5.08, 4.94, 5.14, 5.10, 4.73, 4.96, 5.07, 5.05, 5.00])\n",
    "derr=0.01*np.ones(len(d))\n",
    "herr=0.01*np.ones(len(h))\n",
    "\n",
    "# calculate mean\n",
    "dmean=np.sum(d)/len(d)\n",
    "hmean=np.sum(h)/len(h)\n",
    "\n",
    "# calculate standard deviation\n",
    "dsd=np.sqrt( np.sum(np.square(d-dmean)) / ( len(d)-1) )\n",
    "hsd=np.sqrt( np.sum(np.square(h-hmean)) / (len(h)-1) )\n",
    "\n",
    "# mean error= s.d/sqrt(N)\n",
    "dmeanerr=dsd/np.sqrt(len(d))\n",
    "hmeanerr=hsd/np.sqrt(len(h))\n",
    "\n",
    "print(f'Diameter={dmean:.2e} (+-) {dmeanerr:.1e} cm')\n",
    "print(f'Height={hmean:.2e} (+-) {hmeanerr:.1e} cm')"
   ]
  },
  {
   "cell_type": "code",
   "execution_count": 9,
   "metadata": {},
   "outputs": [
    {
     "data": {
      "text/plain": [
       "'Volume=15.814943997979874 +- 0.6688551843057245 cm^3'"
      ]
     },
     "execution_count": 9,
     "metadata": {},
     "output_type": "execute_result"
    }
   ],
   "source": [
    "#(b)\n",
    "\n",
    "def volfunc(r,h):\n",
    "    return np.square(r)*h*np.pi\n",
    "vol=volfunc(dmean/2,hmean)\n",
    "\n",
    "def volerrfunc(r,h,rerr,herr):\n",
    "    dvdr=2*np.pi*r*h          # calculate partial derivatives\n",
    "    dvdh=np.square(r)*np.pi\n",
    "    return np.sqrt( (dvdr**2)*(rerr**2) + (dvdh**2)*(herr**2) )\n",
    "volerr=volerrfunc(dmean/2,hmean,dmeanerr/2,hmeanerr) \n",
    "\n",
    "f'Volume={vol} +- {volerr} cm^3'"
   ]
  },
  {
   "cell_type": "code",
   "execution_count": 10,
   "metadata": {},
   "outputs": [
    {
     "data": {
      "text/plain": [
       "'Individual Volume=15.881821518672746 +- 0.6800767379799393 cm^3'"
      ]
     },
     "execution_count": 10,
     "metadata": {},
     "output_type": "execute_result"
    }
   ],
   "source": [
    "#(c)\n",
    "\n",
    "# create an array with each individual volume\n",
    "volume=np.zeros(len(d))\n",
    "for i in range(0,len(volume)):\n",
    "    volume[i]=volfunc(d[i]/2, h[i])\n",
    "    \n",
    "# find volumes mean and error\n",
    "volumemean=np.sum(volume)/len(volume)\n",
    "volumesd=np.sqrt( np.sum(np.square(volume-volumemean) ) / (len(volume)-1) )\n",
    "volumeerr=volumesd/np.sqrt(len(volume))\n",
    "f'Individual Volume={volumemean} +- {volumeerr} cm^3'"
   ]
  },
  {
   "cell_type": "markdown",
   "metadata": {},
   "source": [
    "The mean of the individual volumes differs from the best estimate volume. The two volume values agree within uncertainty. The erros on both volumes are also in agreement. "
   ]
  },
  {
   "cell_type": "code",
   "execution_count": null,
   "metadata": {},
   "outputs": [],
   "source": []
  }
 ],
 "metadata": {
  "kernelspec": {
   "display_name": "Python 3",
   "language": "python",
   "name": "python3"
  },
  "language_info": {
   "codemirror_mode": {
    "name": "ipython",
    "version": 3
   },
   "file_extension": ".py",
   "mimetype": "text/x-python",
   "name": "python",
   "nbconvert_exporter": "python",
   "pygments_lexer": "ipython3",
   "version": "3.7.4"
  }
 },
 "nbformat": 4,
 "nbformat_minor": 2
}
