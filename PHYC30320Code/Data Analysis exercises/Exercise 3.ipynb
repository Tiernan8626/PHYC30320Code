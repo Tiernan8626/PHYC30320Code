{
 "cells": [
  {
   "cell_type": "markdown",
   "metadata": {},
   "source": [
    "# Introductory Python Exercise 3"
   ]
  },
  {
   "cell_type": "markdown",
   "metadata": {},
   "source": [
    "# Tiernan O'Neill 18383616"
   ]
  },
  {
   "cell_type": "code",
   "execution_count": 1,
   "metadata": {},
   "outputs": [],
   "source": [
    "import numpy as np\n",
    "import matplotlib.pyplot as plt\n",
    "%matplotlib inline"
   ]
  },
  {
   "cell_type": "markdown",
   "metadata": {},
   "source": [
    "Part (a)"
   ]
  },
  {
   "cell_type": "code",
   "execution_count": 2,
   "metadata": {},
   "outputs": [],
   "source": [
    "xarray=np.random.rand(100)\n",
    "yarray=np.random.rand(100)"
   ]
  },
  {
   "cell_type": "markdown",
   "metadata": {},
   "source": [
    "Part (b)"
   ]
  },
  {
   "cell_type": "code",
   "execution_count": 6,
   "metadata": {},
   "outputs": [
    {
     "data": {
      "image/png": "[encoded data removed]",
      "text/plain": [
       "<Figure size 540x360 with 1 Axes>"
      ]
     },
     "metadata": {
      "needs_background": "light"
     },
     "output_type": "display_data"
    }
   ],
   "source": [
    "plt.figure(figsize = (7.5,5))\n",
    "plt.scatter(xarray,yarray, label='raindrops')\n",
    "\n",
    "x=np.linspace(0.01,1,100)\n",
    "y=np.sqrt(1 - x**2)\n",
    "plt.plot(x,y, label='quarter circle')\n",
    "plt.xlim(0,1.5)\n",
    "plt.ylim(0,1.05)\n",
    "plt.legend();"
   ]
  },
  {
   "cell_type": "markdown",
   "metadata": {},
   "source": [
    "Part (c)"
   ]
  },
  {
   "cell_type": "code",
   "execution_count": 7,
   "metadata": {},
   "outputs": [
    {
     "name": "stdout",
     "output_type": "stream",
     "text": [
      "78\n"
     ]
    }
   ],
   "source": [
    "# To determine the number of drops, out of 100, that fall on the quarter circle\n",
    "\n",
    "num_drops=0\n",
    "for i in range(0,len(xarray)):\n",
    "    if (xarray[i])**2 + (yarray[i])**2 <=1: \n",
    "        num_drops+=1\n",
    "print(num_drops)"
   ]
  },
  {
   "cell_type": "markdown",
   "metadata": {},
   "source": [
    "Part (d)"
   ]
  },
  {
   "cell_type": "code",
   "execution_count": 8,
   "metadata": {},
   "outputs": [
    {
     "name": "stdout",
     "output_type": "stream",
     "text": [
      "pi estimate= 3.12\n"
     ]
    }
   ],
   "source": [
    "# ratio of quarter circle/slab = pi/4 = ratio of slab raindrops/total raindrops\n",
    "\n",
    "print('pi estimate=' , 4*num_drops/100)"
   ]
  },
  {
   "cell_type": "markdown",
   "metadata": {},
   "source": [
    "Part (e)"
   ]
  },
  {
   "cell_type": "code",
   "execution_count": 9,
   "metadata": {},
   "outputs": [
    {
     "name": "stdout",
     "output_type": "stream",
     "text": [
      "2.8\n",
      "3.36\n",
      "3.232\n",
      "3.1412\n",
      "3.15116\n"
     ]
    }
   ],
   "source": [
    "def pi(n):\n",
    "    xi=np.random.rand(n)\n",
    "    yi=np.random.rand(n)\n",
    "    num_drop=0\n",
    "    for i in range(0,len(xi)):\n",
    "        if (xi[i])**2 + (yi[i])**2 <=1: \n",
    "            num_drop+=1\n",
    "    return 4*num_drop/n\n",
    "\n",
    "print(pi(10))\n",
    "print(pi(100))\n",
    "print(pi(1000))\n",
    "print(pi(10000))\n",
    "print(pi(100000))"
   ]
  },
  {
   "cell_type": "markdown",
   "metadata": {},
   "source": [
    "Part (f)"
   ]
  },
  {
   "cell_type": "markdown",
   "metadata": {},
   "source": [
    "As shown above, increasing the value of N (our sample size) helps in obtaining a more accurate measurement of pi."
   ]
  },
  {
   "cell_type": "markdown",
   "metadata": {},
   "source": [
    "Part (g)"
   ]
  },
  {
   "cell_type": "code",
   "execution_count": 10,
   "metadata": {},
   "outputs": [
    {
     "name": "stdout",
     "output_type": "stream",
     "text": [
      "3.6\n",
      "3.12\n",
      "3.18\n",
      "3.1428\n",
      "3.14504\n"
     ]
    }
   ],
   "source": [
    "def pi2(n2):\n",
    "    xi2=np.random.rand(n2)\n",
    "    yi2=np.random.rand(n2)\n",
    "    xsq=np.square(xi2)\n",
    "    ysq=np.square(yi2)\n",
    "    xysqarray=np.add(xsq, ysq)\n",
    "    z=np.greater(xysqarray, 1) # checks which values in xyarray is greater than 1\n",
    "    num_rain=n2-np.count_nonzero(z) # gives number of raindrops on quarter circle\n",
    "    return 4*num_rain/n2\n",
    "\n",
    "print(pi2(10))\n",
    "print(pi2(100))\n",
    "print(pi2(1000))\n",
    "print(pi2(10000))\n",
    "print(pi2(100000))"
   ]
  },
  {
   "cell_type": "markdown",
   "metadata": {},
   "source": [
    "We will now test which function, pi or pi2, works faster"
   ]
  },
  {
   "cell_type": "code",
   "execution_count": 11,
   "metadata": {},
   "outputs": [
    {
     "name": "stdout",
     "output_type": "stream",
     "text": [
      "2.42 ms ± 523 µs per loop (mean ± std. dev. of 7 runs, 100 loops each)\n"
     ]
    }
   ],
   "source": [
    "%%timeit\n",
    "pi(1000)"
   ]
  },
  {
   "cell_type": "code",
   "execution_count": 12,
   "metadata": {},
   "outputs": [
    {
     "name": "stdout",
     "output_type": "stream",
     "text": [
      "80.8 µs ± 8.32 µs per loop (mean ± std. dev. of 7 runs, 10000 loops each)\n"
     ]
    }
   ],
   "source": [
    "%%timeit\n",
    "pi2(1000)"
   ]
  },
  {
   "cell_type": "markdown",
   "metadata": {},
   "source": [
    "The pi2 function uses vectorised operations while the pi function uses loops. It is evident that pi2 uses much faster code."
   ]
  },
  {
   "cell_type": "code",
   "execution_count": null,
   "metadata": {},
   "outputs": [],
   "source": []
  }
 ],
 "metadata": {
  "kernelspec": {
   "display_name": "Python 3",
   "language": "python",
   "name": "python3"
  },
  "language_info": {
   "codemirror_mode": {
    "name": "ipython",
    "version": 3
   },
   "file_extension": ".py",
   "mimetype": "text/x-python",
   "name": "python",
   "nbconvert_exporter": "python",
   "pygments_lexer": "ipython3",
   "version": "3.7.4"
  }
 },
 "nbformat": 4,
 "nbformat_minor": 2
}
