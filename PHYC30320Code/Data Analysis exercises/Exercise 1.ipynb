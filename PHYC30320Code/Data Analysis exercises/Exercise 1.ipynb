{
 "cells": [
  {
   "cell_type": "markdown",
   "metadata": {},
   "source": [
    "# Introductory Python Exercise 1"
   ]
  },
  {
   "cell_type": "markdown",
   "metadata": {},
   "source": [
    "# Tiernan O'Neill 18383616"
   ]
  },
  {
   "cell_type": "code",
   "execution_count": 83,
   "metadata": {},
   "outputs": [],
   "source": [
    "import numpy as np\n",
    "import matplotlib.pyplot as plt\n",
    "%matplotlib inline"
   ]
  },
  {
   "cell_type": "markdown",
   "metadata": {},
   "source": [
    "Part (a)"
   ]
  },
  {
   "cell_type": "code",
   "execution_count": 84,
   "metadata": {},
   "outputs": [
    {
     "name": "stdout",
     "output_type": "stream",
     "text": [
      "Please enter a temperature in Celcius:116\n"
     ]
    },
    {
     "data": {
      "text/plain": [
       "'Farenheit=240.80'"
      ]
     },
     "execution_count": 84,
     "metadata": {},
     "output_type": "execute_result"
    }
   ],
   "source": [
    "c1=float(input('Please enter a temperature in Celcius:'))\n",
    "f'Farenheit={(32+9*c1/5):.2f}'"
   ]
  },
  {
   "cell_type": "markdown",
   "metadata": {},
   "source": [
    "Part (b)"
   ]
  },
  {
   "cell_type": "code",
   "execution_count": 85,
   "metadata": {},
   "outputs": [],
   "source": [
    "def CelciusToFarenheit(x):\n",
    "    result=9*x/5 +32\n",
    "    return print('%.2f' % result)"
   ]
  },
  {
   "cell_type": "code",
   "execution_count": 86,
   "metadata": {},
   "outputs": [
    {
     "name": "stdout",
     "output_type": "stream",
     "text": [
      "Please enter a temperature in Celcius:116\n",
      "Farenheit=\n",
      "240.80\n"
     ]
    }
   ],
   "source": [
    "c2=float(input('Please enter a temperature in Celcius:'))\n",
    "print('Farenheit=')\n",
    "CelciusToFarenheit(c2)"
   ]
  },
  {
   "cell_type": "markdown",
   "metadata": {},
   "source": [
    "Part (c)"
   ]
  },
  {
   "cell_type": "code",
   "execution_count": 87,
   "metadata": {},
   "outputs": [],
   "source": [
    "def temp(value,scale):\n",
    "    s=scale\n",
    "    v=value\n",
    "    if s=='c' or s=='C':\n",
    "        dict={\n",
    "            'C':v,\n",
    "            'F':9*v/5 +32,\n",
    "            'K':v+273.15\n",
    "        }\n",
    "    elif s=='f' or s=='F':\n",
    "        dict={\n",
    "            'C':5*v/9 -32*5/9,\n",
    "            'F':v,\n",
    "            'K':5*v/9 -32*5/9 +273.15\n",
    "        }\n",
    "    elif s=='k' or s=='K':\n",
    "        dict={\n",
    "            'C':v-273.15,\n",
    "            'F':9*(v-273.15)/5 +32,\n",
    "            'K':v\n",
    "        }\n",
    "    else:\n",
    "        print('None')\n",
    "    return dict"
   ]
  },
  {
   "cell_type": "code",
   "execution_count": 88,
   "metadata": {},
   "outputs": [
    {
     "data": {
      "text/plain": [
       "{'C': 37.77777777777778, 'F': 100, 'K': 310.92777777777775}"
      ]
     },
     "execution_count": 88,
     "metadata": {},
     "output_type": "execute_result"
    }
   ],
   "source": [
    "temp(100,'f')"
   ]
  },
  {
   "cell_type": "markdown",
   "metadata": {},
   "source": [
    "Part (d)"
   ]
  },
  {
   "cell_type": "code",
   "execution_count": 89,
   "metadata": {},
   "outputs": [
    {
     "name": "stdout",
     "output_type": "stream",
     "text": [
      "Please enter a temperature and scale:220 c\n"
     ]
    },
    {
     "data": {
      "text/plain": [
       "{'C': 220.0, 'F': 428.0, 'K': 493.15}"
      ]
     },
     "execution_count": 89,
     "metadata": {},
     "output_type": "execute_result"
    }
   ],
   "source": [
    "a=input('Please enter a temperature and scale:')\n",
    "v=float(a.split()[0])\n",
    "s=a.split()[1]\n",
    "temp(v,s)"
   ]
  },
  {
   "cell_type": "markdown",
   "metadata": {},
   "source": [
    "Part (e)"
   ]
  },
  {
   "cell_type": "code",
   "execution_count": 90,
   "metadata": {},
   "outputs": [
    {
     "name": "stdout",
     "output_type": "stream",
     "text": [
      "Please enter an inital, a final, and a step size in Celcius:-20 50 5\n",
      "Celcius   |   Farenheit\n",
      "     -20.0       -4.0\n",
      "     -15.0        5.0\n",
      "     -10.0       14.0\n",
      "      -5.0       23.0\n",
      "       0.0       32.0\n",
      "       5.0       41.0\n",
      "      10.0       50.0\n",
      "      15.0       59.0\n",
      "      20.0       68.0\n",
      "      25.0       77.0\n",
      "      30.0       86.0\n",
      "      35.0       95.0\n",
      "      40.0      104.0\n",
      "      45.0      113.0\n",
      "      50.0      122.0\n"
     ]
    }
   ],
   "source": [
    "def CelciusToFarenheit2(x):\n",
    "    return 9*x/5 +32\n",
    "b=input('Please enter an inital, a final, and a step size in Celcius:')\n",
    "i=int(b.split()[0])\n",
    "f=int(b.split()[1])\n",
    "s=int(b.split()[2])\n",
    "\n",
    "print('Celcius   |   Farenheit')\n",
    "\n",
    "for n in range(i,f+s,s):\n",
    "    print( '{:10.1f}'.format(n), '{:10.1f}'.format(CelciusToFarenheit2(n)) )"
   ]
  },
  {
   "cell_type": "markdown",
   "metadata": {},
   "source": [
    "Part (f)"
   ]
  },
  {
   "cell_type": "code",
   "execution_count": 91,
   "metadata": {},
   "outputs": [],
   "source": [
    "# create an empty array and insert the celcius values into this array\n",
    "\n",
    "data1=np.ones(15)\n",
    "\n",
    "p=0\n",
    "for n in range(i,f+s,s):\n",
    "    data1[p]=n\n",
    "    p+=1\n",
    "    \n",
    "data2=CelciusToFarenheit2(data1)"
   ]
  },
  {
   "cell_type": "code",
   "execution_count": 92,
   "metadata": {},
   "outputs": [
    {
     "name": "stdout",
     "output_type": "stream",
     "text": [
      "Please enter a file name:temp\n"
     ]
    }
   ],
   "source": [
    "filename=input('Please enter a file name:')\n",
    "\n",
    "with open(filename +'.txt','w') as f:\n",
    "    s1=str(data1)\n",
    "    s2=str(data2)\n",
    "    f.write(s1+'\\n')\n",
    "    f.write(s2+'\\n')"
   ]
  },
  {
   "cell_type": "code",
   "execution_count": null,
   "metadata": {},
   "outputs": [],
   "source": []
  }
 ],
 "metadata": {
  "kernelspec": {
   "display_name": "Python 3",
   "language": "python",
   "name": "python3"
  },
  "language_info": {
   "codemirror_mode": {
    "name": "ipython",
    "version": 3
   },
   "file_extension": ".py",
   "mimetype": "text/x-python",
   "name": "python",
   "nbconvert_exporter": "python",
   "pygments_lexer": "ipython3",
   "version": "3.7.4"
  }
 },
 "nbformat": 4,
 "nbformat_minor": 2
}
