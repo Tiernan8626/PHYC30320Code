{
 "cells": [
  {
   "cell_type": "markdown",
   "metadata": {},
   "source": [
    "# Advanced Labratories Data Analysis Week 1 "
   ]
  },
  {
   "cell_type": "markdown",
   "metadata": {},
   "source": [
    "# Tiernan O'Neill 18383616"
   ]
  },
  {
   "cell_type": "markdown",
   "metadata": {},
   "source": [
    "At the end of this session you should be able to:\n",
    "\n",
    "1. Read in a data file to Python\n",
    "2. Plot the data including error bars\n",
    "3. Fit a line of best fit to the data \n",
    "4. Include error bars in the linear fitting and get the errors on the slope and intercept\n",
    "\n",
    "This Notebook environment allows us to mix text/tasks with code in an interactive environment. The general format is that you will get a few introductory remarks, followed by a specific instruction (marked in <font color =\"blue\"> blue font </font>) followed by an empty cell where you are to code those instructions. You can run the code to check it and if it works you can proceed on to the next instruction. \n"
   ]
  },
  {
   "cell_type": "markdown",
   "metadata": {},
   "source": [
    "If you need help on how to use any thing in Python you can use the help function with the name of what you want help with, e.g.:"
   ]
  },
  {
   "cell_type": "code",
   "execution_count": 1,
   "metadata": {},
   "outputs": [
    {
     "name": "stdout",
     "output_type": "stream",
     "text": [
      "Help on built-in function max in module builtins:\n",
      "\n",
      "max(...)\n",
      "    max(iterable, *[, default=obj, key=func]) -> value\n",
      "    max(arg1, arg2, *args, *[, key=func]) -> value\n",
      "    \n",
      "    With a single iterable argument, return its biggest item. The\n",
      "    default keyword-only argument specifies an object to return if\n",
      "    the provided iterable is empty.\n",
      "    With two or more arguments, return the largest argument.\n",
      "\n"
     ]
    }
   ],
   "source": [
    "help(max)"
   ]
  },
  {
   "cell_type": "markdown",
   "metadata": {},
   "source": [
    "## Exercise Overview\n",
    "\n",
    "The law of radioactive decay can be expressed as \n",
    "$$N =N_{0} \\exp(-\\lambda t)$$\n",
    "\n",
    "Takingthe natural log of both sides of the above equation gives:\n",
    "$$ \\log N = \\log N_0 - \\lambda t$$\n",
    "which is the equation of a straight line.\n",
    "\n",
    "In this exercise a data file is provided with times ($t$) counts ($N$) which will be read in and the values for $N_0$ and $\\lambda$ determined by transforming the counts using logs so that the a straight line can be fit to the data to find the best-fit parameters.\n",
    "\n",
    "The exercise is first done without taking account of the Poisson errors on the counts data points and then repeated including the errors."
   ]
  },
  {
   "cell_type": "markdown",
   "metadata": {},
   "source": [
    "## 1) Reading in a data file"
   ]
  },
  {
   "cell_type": "markdown",
   "metadata": {},
   "source": [
    "Numpy will read in \"text\" files in which numerical data is formatted in columns. In this example you will be determining the decay constant associated with the radioactive decay of a sample.\n",
    "The raw data, which is artifical, is in a file (which you should download to your working directory) called counts.dat. **The first column is the time in seconds whilst the second gives the counts registered by a detector over the time interval**.\n",
    "\n",
    "To read the data contained in counts.dat into a Python variable you will need to name the variable and assign it (=) to the data using numpy's **<samp>loadtxt(filename)</samp>** function.\n",
    "\n",
    "There are two options for using **<samp>loadtxt()**</samp>\n",
    " * **<samp>data=np.loadtxt(\"filename\")</samp>** loads the datafile into a 2D array from which you can then extract the columns. In this case elements of the 2D array can be accessed using the notation **<samp>data[i,j]</samp>** where **<samp>i</samp>** refers to the row and **<samp>j</samp>** the column (indices starting at 0) and whole rows or columns are access using \"**<samp>:</samp>**\" (e.g. **<samp>data[:,0]</samp>** is the first column.)\n",
    " * **<samp>x,y,... = np.loadtxt(\"filename\",unpack=True)</samp>** loads the data file in and extracts the columns and puts them in the variables **<samp>x, y</samp>** etc. The number of variables must match the number of columns!\n",
    "\n",
    "<font color =\"blue\"> Read in the data file and check that is has been read correctly. So, first **<samp>import numpy as np</samp>** then use the Numpy **<samp>loadtxt()</samp>** function to read in the data file and extract the two colums into variables called **<samp>t</samp>** and **<samp>cts</samp>**. Check a few elements to see that they agree with what you expect.<font>"
   ]
  },
  {
   "cell_type": "code",
   "execution_count": 3,
   "metadata": {},
   "outputs": [
    {
     "name": "stdout",
     "output_type": "stream",
     "text": [
      "[ 120.  240. 2160. 4080. 6000. 7920. 9840.]\n"
     ]
    }
   ],
   "source": [
    "#this part is a solution for the reading in of the data\n",
    "\n",
    "import numpy as np\n",
    "data=np.loadtxt('C:/Users/tiern/OneDrive/Documents/PHYC30320/Data Analysis exercises/counts.dat')\n",
    "t=data[:,0]\n",
    "cts=data[:,1]\n",
    "print(t)"
   ]
  },
  {
   "cell_type": "markdown",
   "metadata": {},
   "source": [
    "Note on **<samp>loadtxt()</samp>**: by default it ignores lines starting with a **#** (you can add useful comments to a text file) and white space is used as the separator between columns (this can be changed using the **<samp>delimiter=</samp>** optional argument, e.g. to load a comma-separated file use **<samp>delimiter=\",\"</samp>**)"
   ]
  },
  {
   "cell_type": "markdown",
   "metadata": {},
   "source": [
    "## 2) Plotting data"
   ]
  },
  {
   "cell_type": "markdown",
   "metadata": {},
   "source": [
    "From the above, you should now have loaded the data from the file have two numpy arrays **<samp>t</samp>** and **<samp>cts</samp>**  with the data.\n",
    "\n",
    "Now you want to plot the natural log of the counts vs time.\n",
    "\n",
    "<font color=\"blue\">Make a new variable called **<samp>logcts</samp>** which stores the natural log of **<samp>cts</samp>** (the numpy function for natural log is **<samp>log()</samp>**) </font> "
   ]
  },
  {
   "cell_type": "code",
   "execution_count": 4,
   "metadata": {},
   "outputs": [],
   "source": [
    "# this part is the solution for making logcts\n",
    "\n",
    "logcts=np.log(cts)"
   ]
  },
  {
   "cell_type": "markdown",
   "metadata": {},
   "source": [
    "To plot the data, first **import the matplotlib pyplot module** , then **tell Jupyter to embed the plots in the notebook** by using the Jupyter cell magic: **<samp>%matplotlib inline</samp>**:\n",
    "```python\n",
    "import matplotlib.pyplot as plt\n",
    "%matplotlib inline\n",
    "```\n",
    "\n",
    "<font color=\"blue\"> Plot a graph of **<samp>logcts</samp>** against **<samp>t<samp>**, using the **matplotlib pyplot plot()** command, display the experimental data as points only (i.e. not connected by lines). Remember to label your axes and include a plot title. </font>\n",
    "\n",
    "[pyplot plot() online help and options](https://matplotlib.org/api/_as_gen/matplotlib.pyplot.plot.html)\n",
    "    \n",
    "Tip: after the last command in a cell the output of that command is printed. e.g. when adding a title or label to the plot you get a message that like **<samp>Text(0.5, 0, 'time (s)')</samp>**. To suppress these messages put a semi-colon immediately after the last command"
   ]
  },
  {
   "cell_type": "code",
   "execution_count": 5,
   "metadata": {},
   "outputs": [
    {
     "data": {
      "image/png": "[encoded data removed]",
      "text/plain": [
       "<Figure size 432x288 with 1 Axes>"
      ]
     },
     "metadata": {
      "needs_background": "light"
     },
     "output_type": "display_data"
    }
   ],
   "source": [
    "# this part is a solution for plotting logcts vs t\n",
    "\n",
    "import matplotlib.pyplot as plt\n",
    "%matplotlib inline\n",
    "\n",
    "plt.scatter(t, logcts)\n",
    "plt.xlabel('time (s)')\n",
    "plt.ylabel('natural log of counts')\n",
    "plt.title('Plot of log(counts) v time');"
   ]
  },
  {
   "cell_type": "markdown",
   "metadata": {},
   "source": [
    "## 3) Simple straight line fitting"
   ]
  },
  {
   "cell_type": "markdown",
   "metadata": {},
   "source": [
    "From the **<samp>scipy.optimize</samp>** library the function **<samp>curve_fit()</samp>**, may be used to determine the line of best fit for the data. \n",
    "\n",
    "The Scipy online documentation on **<samp>curve_fit()</samp>** can be found [here](https://docs.scipy.org/doc/scipy/reference/generated/scipy.optimize.curve_fit.html).\n",
    "\n",
    "The basic usage of **<samp>curve_fit()</samp>** is:\n",
    "```python\n",
    "from scipy.optimize import curve_fit\n",
    "\n",
    "popt, pcov = curve_fit(func, xdata, ydata)\n",
    "```\n",
    "\n",
    "where **<samp>func</samp>** is the function to be fit to the provided data points.\n",
    "There are additional options for including error bars on the data points which we will meet later.\n",
    "\n",
    "**<samp>curve_fit()</samp>** returns two arrays: \n",
    " * **<samp>popt</samp>** is an array with the optimum paramters for the fit function in the order in which the parameters are defined in the function. \n",
    " * **<samp>pcov</samp>** is the covariance matrix, which contains information about the errors on the fit parameters. \n",
    "A tutorial will be given later on understanding the covariance matrix, but the **errors on the fit parameters are simply the square root of the diagonal elements**.\n",
    "\n",
    "You will need to define the function that you are trying to fit to your data. \n",
    "\n",
    "<font color=\"blue\"> Define the **<samp>fit</samp>** funcion (call it **\"<samp>func</samp>\"**) taking parameters **<samp>x</samp>**, **<samp>m</samp>** for the slope and **<samp>c</samp>** for the intercept (in that order) and have it return the value of $y=m \\times x+c$ </font>"
   ]
  },
  {
   "cell_type": "code",
   "execution_count": 6,
   "metadata": {},
   "outputs": [],
   "source": [
    "# this part is the solution for defining the fit function\n",
    "\n",
    "def func(x, m, c):\n",
    "    return m*x + c"
   ]
  },
  {
   "cell_type": "markdown",
   "metadata": {},
   "source": [
    "<font color=\"blue\"> Import the curve_fit function and use it to fit the straight-line function to the points. Print out the values of the best-fit slope and intercept **using scientific notation  to three decimal places** (Python: **<samp>f\"{var:.3e}\"</samp>**)</font>"
   ]
  },
  {
   "cell_type": "code",
   "execution_count": 7,
   "metadata": {},
   "outputs": [
    {
     "name": "stdout",
     "output_type": "stream",
     "text": [
      "Slope= -4.586e-04\n",
      "y-intercept= 6.071e+00\n"
     ]
    }
   ],
   "source": [
    "# this part is the solution for fitting and printing best-fit values\n",
    "\n",
    "from scipy.optimize import curve_fit\n",
    "popt, pcov = curve_fit(func, t, logcts)\n",
    "\n",
    "print('Slope= ' f'{popt[0]:.3e}')\n",
    "print('y-intercept= ' f'{popt[1]:.3e}')"
   ]
  },
  {
   "cell_type": "markdown",
   "metadata": {},
   "source": [
    "<font color=\"blue\"> Plot the data points (as points) and the best-fit function (i.e. the fit function using the best-fit values returned by **<samp>curve_fit()</samp>**as a solid line overlaid.\n",
    "It is always important to visually compare your fit with your data and check that it is reasonable. </font>\n",
    "\n",
    "Note: you can pass the best-fit parameters to the fit function indivdually:\n",
    "```python\n",
    "yfit=func(x, popt[0], popt[1])\n",
    "```\n",
    "or use the Python variable expansion (**<samp>*args</samp>** notation):\n",
    "```python\n",
    "yfit=func(x, *popt)     #  expand and fill automatically\n",
    "```"
   ]
  },
  {
   "cell_type": "code",
   "execution_count": 8,
   "metadata": {},
   "outputs": [
    {
     "data": {
      "image/png": "[encoded data removed]",
      "text/plain": [
       "<Figure size 432x288 with 1 Axes>"
      ]
     },
     "metadata": {
      "needs_background": "light"
     },
     "output_type": "display_data"
    }
   ],
   "source": [
    "#this part is the solution for data + best-fit plotting.  \n",
    "\n",
    "plt.scatter(t, logcts, label='data points')\n",
    "\n",
    "x=np.linspace(0,10000,10)\n",
    "yfit=func(x, popt[0], popt[1])\n",
    "\n",
    "plt.plot(x,yfit, 'g', label='line of best fit')\n",
    "plt.xlabel('time (s)')\n",
    "plt.ylabel('natural log of counts')\n",
    "plt.title('Plot of log(counts) v time')\n",
    "plt.legend();"
   ]
  },
  {
   "cell_type": "markdown",
   "metadata": {},
   "source": [
    "<font color='blue'> Print the values of the best fit paramaters again but also include the errors on the fit parameters from the covariance matrix. (The errors are the square roots of the diagonal elements: the error on parameter 0 is **<samp>sqrt(pcov[0,0])</samp>** and similarly for parameter 1). Again, use scientific notation to three decimal places </font>"
   ]
  },
  {
   "cell_type": "code",
   "execution_count": 9,
   "metadata": {},
   "outputs": [
    {
     "name": "stdout",
     "output_type": "stream",
     "text": [
      "Slope= -4.586e-04 (+-) 3.495e-06\n",
      "y-intercept= 6.071e+00 (+-) 1.946e-02\n"
     ]
    }
   ],
   "source": [
    "# This part is the solution for printing the values and\n",
    "# errors on the best-fit parameters\n",
    "\n",
    "print('Slope= ' f'{popt[0]:.3e} (+-) {np.sqrt(pcov[0,0]):.3e}')\n",
    "print('y-intercept= ' f'{popt[1]:.3e} (+-) {np.sqrt(pcov[1,1]):.3e}')"
   ]
  },
  {
   "cell_type": "markdown",
   "metadata": {},
   "source": [
    "The law of radioactive decay can be expressed as \n",
    "$$N =N_{0} \\exp(-\\lambda t)$$\n",
    "\n",
    "<font color='blue'> Use the slope of the line of best fit to determine values for $\\lambda$ and $N_0$. </font>\n",
    "\n",
    "Note: Python 3 has full unicode support so you can include symbols such as λ as variable names!\n"
   ]
  },
  {
   "cell_type": "code",
   "execution_count": 10,
   "metadata": {},
   "outputs": [
    {
     "name": "stdout",
     "output_type": "stream",
     "text": [
      "lambda= 0.0004585857527694203\n",
      "N0= 433.07849617868555\n"
     ]
    }
   ],
   "source": [
    "# This part is the solution for finding 𝜆 and N0 \n",
    "\n",
    "# lambda is equal to the minus of the slope of line of best fit\n",
    "# N0 is equal to the exponential of the y-intercept\n",
    "\n",
    "print('lambda= ' f'{-popt[0]}')\n",
    "print('N0= ' f'{np.exp(popt[1])}')"
   ]
  },
  {
   "cell_type": "markdown",
   "metadata": {},
   "source": [
    "<font color='blue'> Display the values of $\\lambda$ and $N_0$ together with their uncertainties, using appropriate scale for each (ie. whether scientific notation or not) </font>\n",
    "    \n",
    "**Note on Propagation of Errors**: <br/>\n",
    "since \n",
    "$$c=\\ln N_0$$ \n",
    "and hence\n",
    "$$N_0 = e^{c}$$\n",
    "to get the error on $N_0$ we must propagate the uncertainty on the best-fit value of c (<samp>c_err</samp>) through the exponential which gives:\n",
    "$$\\sigma_{N_0} = N_0 \\times \\sigma_c$$"
   ]
  },
  {
   "cell_type": "code",
   "execution_count": 11,
   "metadata": {},
   "outputs": [
    {
     "name": "stdout",
     "output_type": "stream",
     "text": [
      "lambda= 4.58586e-04 (+-) 3.495e-06\n",
      "N0= 4.331e+02 (+-) 8.426e+00\n"
     ]
    }
   ],
   "source": [
    "# This part is the solution for printing 𝜆, N0 and their uncertainties\n",
    "\n",
    "print('lambda= ' f'{-popt[0]:.5e} (+-) {np.sqrt(pcov[0,0]):.3e}')\n",
    "print('N0= ' f'{np.exp(popt[1]):.3e} (+-) {np.exp(popt[1])*np.sqrt(pcov[1,1]):.3e}')"
   ]
  },
  {
   "cell_type": "markdown",
   "metadata": {},
   "source": [
    "## 4) Straight line fitting including uncertainty on the data points"
   ]
  },
  {
   "cell_type": "markdown",
   "metadata": {},
   "source": [
    "Assume in this experiment that the uncertainty associated with the time measurement is negligibly small whilst that associated with the number of counts is just the square root of the number of counts (Poisson statistics). You will have to determine the error associated with the natural logarithm of the counts using propogation of errors."
   ]
  },
  {
   "cell_type": "markdown",
   "metadata": {},
   "source": [
    "<font color ='blue'>Determine and plot the error bars on the log of the counts: \n",
    "    \n",
    "Define a new variable (**<samp>logcts_err</samp>**) to be the uncertainty associated with the natural log of the counts and **plot <samp>logcts</samp> against <samp>t</samp> again but this time with error bars on the points**. Use the function: **<samp>plt.errorbar(x,y,yerr=logcts_err,fmt='.')</samp>**. Note: you can also use fmt='o' for bigger points.\n",
    "    \n",
    "Online help for [pyplot errorbar()](https://matplotlib.org/3.1.1/api/_as_gen/matplotlib.pyplot.errorbar.html) \n",
    "</font>"
   ]
  },
  {
   "cell_type": "markdown",
   "metadata": {},
   "source": [
    "**Note on propagation of errors** \n",
    "\n",
    "To propagate an error through the natural log use:\n",
    "$$\\sigma_{\\ln x}=\\frac{\\sigma_x}{x} = \\frac{\\sqrt{x}}{x} = \\frac{1}{\\sqrt{x}} = \\frac{1}{\\sigma_x}$$"
   ]
  },
  {
   "cell_type": "code",
   "execution_count": 12,
   "metadata": {},
   "outputs": [
    {
     "data": {
      "image/png": "[encoded data removed]",
      "text/plain": [
       "<Figure size 432x288 with 1 Axes>"
      ]
     },
     "metadata": {
      "needs_background": "light"
     },
     "output_type": "display_data"
    }
   ],
   "source": [
    "# This part is the solution for determining the error bars\n",
    "# and plotting the points with error bars\n",
    "\n",
    "logcts_err=1/np.sqrt(cts)\n",
    "\n",
    "plt.errorbar(t,logcts,yerr=logcts_err,fmt='o')\n",
    "plt.xlabel('time (s)')\n",
    "plt.ylabel('natural log of counts')\n",
    "plt.title('Plot of log(counts) v time');"
   ]
  },
  {
   "cell_type": "markdown",
   "metadata": {},
   "source": [
    "One of the optional parameters for the  **<samp>curvefit()</samp>** function is the uncertainties on \"*y*\".  \n",
    "\n",
    "By specifying this you should improve the fit because it acts as a kind of weighting on each data point.\n",
    "\n",
    "<font color = 'blue'>Repeat the fitting including the errors on *y*. </font>\n",
    "\n",
    "To do this you will need to specify the array which stores the uncertainties (let's say it is called __<samp>errorY</samp>__) in the call to **<samp>curve_fit()</samp>** using the **<samp>sigma=</samp>** option:\n",
    "```python\n",
    "popt, pcov = curve_fit(func, x, y, sigma=errorY, absolute_sigma=True)\n",
    "```\n",
    "The option **<samp>absolute_sigma=True</samp>** specifies that the errors are true error bars and not just relative weights.\n",
    "\n",
    "As before, the uncertainty on the fit parameters is obtained from the square root of the diagonal of the covariance matrix (**<samp>pcov</samp>**).\n",
    "\n",
    "<font color = 'blue'> Plot the line of best fit against the data with error bars. Use the information obtained from this fit to redetermine the more accurate values of $\\lambda$ and $N_0$ and the new uncertainties on them. Use different variable names for the best-fit parameters are errors to distinguish them from the previous ones.</font> "
   ]
  },
  {
   "cell_type": "code",
   "execution_count": 13,
   "metadata": {},
   "outputs": [
    {
     "name": "stdout",
     "output_type": "stream",
     "text": [
      "New Slope= -4.631e-04 (+-) 1.831e-05\n",
      "New y-intercept= 6.083e+00 (+-) 3.539e-02\n",
      "New lambda= 4.63089e-04 (+-) 1.831e-05\n",
      "New N0= 4.382e+02 (+-) 1.551e+01\n"
     ]
    },
    {
     "data": {
      "image/png": "[encoded data removed]",
      "text/plain": [
       "<Figure size 432x288 with 1 Axes>"
      ]
     },
     "metadata": {
      "needs_background": "light"
     },
     "output_type": "display_data"
    }
   ],
   "source": [
    "# this is the solution for plotting the data points with \n",
    "# errorbars with the best fit overlaid\n",
    "\n",
    "# we will obtain new values of lamda and N0 by taking the y uncertainties into account\n",
    "\n",
    "popt_yerr, pcov_yerr = curve_fit(func, t, logcts, sigma=logcts_err, absolute_sigma=True)\n",
    "\n",
    "print('New Slope= ' f'{popt_yerr[0]:.3e} (+-) {np.sqrt(pcov_yerr[0,0]):.3e}')\n",
    "print('New y-intercept= ' f'{popt_yerr[1]:.3e} (+-) {np.sqrt(pcov_yerr[1,1]):.3e}')\n",
    "\n",
    "print('New lambda= ' f'{-popt_yerr[0]:.5e} (+-) {np.sqrt(pcov_yerr[0,0]):.3e}')\n",
    "print('New N0= ' f'{np.exp(popt_yerr[1]):.3e} (+-) {np.exp(popt_yerr[1])*np.sqrt(pcov_yerr[1,1]):.3e}')\n",
    "\n",
    "x=np.linspace(0,10000,10)\n",
    "yfit_yerr=func(x, popt_yerr[0], popt_yerr[1])\n",
    "plt.plot(x,yfit_yerr, 'g', label='line of best fit')\n",
    "\n",
    "plt.errorbar(t,logcts,yerr=logcts_err,fmt='o')\n",
    "\n",
    "plt.xlabel('time (s)')\n",
    "plt.ylabel('natural log of counts')\n",
    "plt.title('Plot of log(counts) v time')\n",
    "plt.legend();"
   ]
  },
  {
   "cell_type": "markdown",
   "metadata": {},
   "source": [
    "<font color='blue'> Compare the values (and errors) of $\\lambda$ and $N_0$ obtained when error bars on the data points are included to the values obtained previously when uncertainties on the data points were not included. Comment on any differences you see and whether they are reasonable/expected. \n",
    "</font>"
   ]
  },
  {
   "cell_type": "code",
   "execution_count": 14,
   "metadata": {},
   "outputs": [
    {
     "name": "stdout",
     "output_type": "stream",
     "text": [
      "lambda= 4.58586e-04 (+-) 3.495e-06\n",
      "N0= 4.331e+02 (+-) 8.426e+00\n",
      "New lambda= 4.63089e-04 (+-) 1.831e-05\n",
      "New N0= 4.382e+02 (+-) 1.551e+01\n"
     ]
    }
   ],
   "source": [
    "# this is the solution for the comparing the values (and errors) obtained for\n",
    "# 𝜆 and N0 with and without including error bars on the data points\n",
    "\n",
    "print('lambda= ' f'{-popt[0]:.5e} (+-) {np.sqrt(pcov[0,0]):.3e}')\n",
    "print('N0= ' f'{np.exp(popt[1]):.3e} (+-) {np.exp(popt[1])*np.sqrt(pcov[1,1]):.3e}')\n",
    "\n",
    "print('New lambda= ' f'{-popt_yerr[0]:.5e} (+-) {np.sqrt(pcov_yerr[0,0]):.3e}')\n",
    "print('New N0= ' f'{np.exp(popt_yerr[1]):.3e} (+-) {np.exp(popt_yerr[1])*np.sqrt(pcov_yerr[1,1]):.3e}')"
   ]
  },
  {
   "cell_type": "markdown",
   "metadata": {},
   "source": [
    "#### Comment on the fit results with and without error bars\n",
    "\n",
    "With error bars, the values of N0 and lambda both changed. The uncertainty on the new lambda is much smaller and therefore more accurate than the original lambda. However, the uncertainty on the new N0 has increased from the original N0, this was expected as the introduced y-errors caused the uncertainty on our new y-intercept to increase.\n"
   ]
  },
  {
   "cell_type": "markdown",
   "metadata": {},
   "source": [
    "## 5) Concluding Remarks:"
   ]
  },
  {
   "cell_type": "markdown",
   "metadata": {},
   "source": [
    "You could have done the whole exercise fitting to an exponential function directly. If you are interested you can try this and compare the results for N0 and $\\lambda$ (and the uncertainties) with the ones you have already obtained.\n",
    "\n",
    "Now you should be able to:\n",
    "1. Read in a data file to a Python notebook\n",
    "2. Plot the data including error bars\n",
    "3. Fit a line of best fit to the data\n",
    "4. Get errors on the slope and intercept.\n",
    "\n",
    "**Make sure that you understand the components in the notebook!**\n"
   ]
  },
  {
   "cell_type": "code",
   "execution_count": null,
   "metadata": {},
   "outputs": [],
   "source": []
  }
 ],
 "metadata": {
  "kernelspec": {
   "display_name": "Python 3",
   "language": "python",
   "name": "python3"
  },
  "language_info": {
   "codemirror_mode": {
    "name": "ipython",
    "version": 3
   },
   "file_extension": ".py",
   "mimetype": "text/x-python",
   "name": "python",
   "nbconvert_exporter": "python",
   "pygments_lexer": "ipython3",
   "version": "3.7.4"
  }
 },
 "nbformat": 4,
 "nbformat_minor": 1
}
